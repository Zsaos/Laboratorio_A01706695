{
 "cells": [
  {
   "cell_type": "markdown",
   "id": "fa0bdbdb",
   "metadata": {},
   "source": [
    "# Primera prueba para Repositorio\n",
    "## Ecabezado 2\n",
    "### Encabezado 3\n",
    "\n",
    "*Cursiva*   \n",
    "**Negritas**   \n",
    "***Cursiva y negritas***   "
   ]
  },
  {
   "cell_type": "code",
   "execution_count": null,
   "id": "482035d5",
   "metadata": {},
   "outputs": [],
   "source": [
    "print (\"Hola mundo\")"
   ]
  }
 ],
 "metadata": {
  "kernelspec": {
   "display_name": "Python 3",
   "language": "python",
   "name": "python3"
  },
  "language_info": {
   "codemirror_mode": {
    "name": "ipython",
    "version": 3
   },
   "file_extension": ".py",
   "mimetype": "text/x-python",
   "name": "python",
   "nbconvert_exporter": "python",
   "pygments_lexer": "ipython3",
   "version": "3.8.8"
  }
 },
 "nbformat": 4,
 "nbformat_minor": 5
}
