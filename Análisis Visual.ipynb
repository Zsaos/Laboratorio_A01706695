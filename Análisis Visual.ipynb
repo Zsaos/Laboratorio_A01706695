{
 "cells": [
  {
   "cell_type": "markdown",
   "metadata": {},
   "source": [
    "# Análisis Visual\n",
    "En esta parte del proyecto se realizarán varias gráficas de la base de datos con el objetivo de mejor la visualización y presentación de los datos."
   ]
  },
  {
   "cell_type": "markdown",
   "metadata": {},
   "source": [
    "## Carga de la Base de Datos\n",
    "A partir de esta actividad, se decidió eliminar una de las columnas del documento *csv* por no tener datos completos."
   ]
  },
  {
   "cell_type": "code",
   "execution_count": 29,
   "metadata": {},
   "outputs": [
    {
     "data": {
      "text/html": [
       "<div>\n",
       "<style scoped>\n",
       "    .dataframe tbody tr th:only-of-type {\n",
       "        vertical-align: middle;\n",
       "    }\n",
       "\n",
       "    .dataframe tbody tr th {\n",
       "        vertical-align: top;\n",
       "    }\n",
       "\n",
       "    .dataframe thead th {\n",
       "        text-align: right;\n",
       "    }\n",
       "</style>\n",
       "<table border=\"1\" class=\"dataframe\">\n",
       "  <thead>\n",
       "    <tr style=\"text-align: right;\">\n",
       "      <th></th>\n",
       "      <th>world_rank</th>\n",
       "      <th>institution</th>\n",
       "      <th>country</th>\n",
       "      <th>national_rank</th>\n",
       "      <th>quality_of_education</th>\n",
       "      <th>alumni_employment</th>\n",
       "      <th>quality_of_faculty</th>\n",
       "      <th>publications</th>\n",
       "      <th>influence</th>\n",
       "      <th>citations</th>\n",
       "      <th>patents</th>\n",
       "      <th>score</th>\n",
       "      <th>year</th>\n",
       "    </tr>\n",
       "  </thead>\n",
       "  <tbody>\n",
       "    <tr>\n",
       "      <th>0</th>\n",
       "      <td>1</td>\n",
       "      <td>Harvard University</td>\n",
       "      <td>USA</td>\n",
       "      <td>1</td>\n",
       "      <td>7</td>\n",
       "      <td>9</td>\n",
       "      <td>1</td>\n",
       "      <td>1</td>\n",
       "      <td>1</td>\n",
       "      <td>1</td>\n",
       "      <td>5</td>\n",
       "      <td>100.00</td>\n",
       "      <td>2012</td>\n",
       "    </tr>\n",
       "    <tr>\n",
       "      <th>1</th>\n",
       "      <td>2</td>\n",
       "      <td>Massachusetts Institute of Technology</td>\n",
       "      <td>USA</td>\n",
       "      <td>2</td>\n",
       "      <td>9</td>\n",
       "      <td>17</td>\n",
       "      <td>3</td>\n",
       "      <td>12</td>\n",
       "      <td>4</td>\n",
       "      <td>4</td>\n",
       "      <td>1</td>\n",
       "      <td>91.67</td>\n",
       "      <td>2012</td>\n",
       "    </tr>\n",
       "    <tr>\n",
       "      <th>2</th>\n",
       "      <td>3</td>\n",
       "      <td>Stanford University</td>\n",
       "      <td>USA</td>\n",
       "      <td>3</td>\n",
       "      <td>17</td>\n",
       "      <td>11</td>\n",
       "      <td>5</td>\n",
       "      <td>4</td>\n",
       "      <td>2</td>\n",
       "      <td>2</td>\n",
       "      <td>15</td>\n",
       "      <td>89.50</td>\n",
       "      <td>2012</td>\n",
       "    </tr>\n",
       "    <tr>\n",
       "      <th>3</th>\n",
       "      <td>4</td>\n",
       "      <td>University of Cambridge</td>\n",
       "      <td>United Kingdom</td>\n",
       "      <td>1</td>\n",
       "      <td>10</td>\n",
       "      <td>24</td>\n",
       "      <td>4</td>\n",
       "      <td>16</td>\n",
       "      <td>16</td>\n",
       "      <td>11</td>\n",
       "      <td>50</td>\n",
       "      <td>86.17</td>\n",
       "      <td>2012</td>\n",
       "    </tr>\n",
       "    <tr>\n",
       "      <th>4</th>\n",
       "      <td>5</td>\n",
       "      <td>California Institute of Technology</td>\n",
       "      <td>USA</td>\n",
       "      <td>4</td>\n",
       "      <td>2</td>\n",
       "      <td>29</td>\n",
       "      <td>7</td>\n",
       "      <td>37</td>\n",
       "      <td>22</td>\n",
       "      <td>22</td>\n",
       "      <td>18</td>\n",
       "      <td>85.21</td>\n",
       "      <td>2012</td>\n",
       "    </tr>\n",
       "    <tr>\n",
       "      <th>...</th>\n",
       "      <td>...</td>\n",
       "      <td>...</td>\n",
       "      <td>...</td>\n",
       "      <td>...</td>\n",
       "      <td>...</td>\n",
       "      <td>...</td>\n",
       "      <td>...</td>\n",
       "      <td>...</td>\n",
       "      <td>...</td>\n",
       "      <td>...</td>\n",
       "      <td>...</td>\n",
       "      <td>...</td>\n",
       "      <td>...</td>\n",
       "    </tr>\n",
       "    <tr>\n",
       "      <th>2195</th>\n",
       "      <td>996</td>\n",
       "      <td>University of the Algarve</td>\n",
       "      <td>Portugal</td>\n",
       "      <td>7</td>\n",
       "      <td>367</td>\n",
       "      <td>567</td>\n",
       "      <td>218</td>\n",
       "      <td>926</td>\n",
       "      <td>845</td>\n",
       "      <td>812</td>\n",
       "      <td>816</td>\n",
       "      <td>44.03</td>\n",
       "      <td>2015</td>\n",
       "    </tr>\n",
       "    <tr>\n",
       "      <th>2196</th>\n",
       "      <td>997</td>\n",
       "      <td>Alexandria University</td>\n",
       "      <td>Egypt</td>\n",
       "      <td>4</td>\n",
       "      <td>236</td>\n",
       "      <td>566</td>\n",
       "      <td>218</td>\n",
       "      <td>997</td>\n",
       "      <td>908</td>\n",
       "      <td>645</td>\n",
       "      <td>871</td>\n",
       "      <td>44.03</td>\n",
       "      <td>2015</td>\n",
       "    </tr>\n",
       "    <tr>\n",
       "      <th>2197</th>\n",
       "      <td>998</td>\n",
       "      <td>Federal University of Ceará</td>\n",
       "      <td>Brazil</td>\n",
       "      <td>18</td>\n",
       "      <td>367</td>\n",
       "      <td>549</td>\n",
       "      <td>218</td>\n",
       "      <td>830</td>\n",
       "      <td>823</td>\n",
       "      <td>812</td>\n",
       "      <td>824</td>\n",
       "      <td>44.03</td>\n",
       "      <td>2015</td>\n",
       "    </tr>\n",
       "    <tr>\n",
       "      <th>2198</th>\n",
       "      <td>999</td>\n",
       "      <td>University of A Coruña</td>\n",
       "      <td>Spain</td>\n",
       "      <td>40</td>\n",
       "      <td>367</td>\n",
       "      <td>567</td>\n",
       "      <td>218</td>\n",
       "      <td>886</td>\n",
       "      <td>974</td>\n",
       "      <td>812</td>\n",
       "      <td>651</td>\n",
       "      <td>44.02</td>\n",
       "      <td>2015</td>\n",
       "    </tr>\n",
       "    <tr>\n",
       "      <th>2199</th>\n",
       "      <td>1000</td>\n",
       "      <td>China Pharmaceutical University</td>\n",
       "      <td>China</td>\n",
       "      <td>83</td>\n",
       "      <td>367</td>\n",
       "      <td>567</td>\n",
       "      <td>218</td>\n",
       "      <td>861</td>\n",
       "      <td>991</td>\n",
       "      <td>812</td>\n",
       "      <td>547</td>\n",
       "      <td>44.02</td>\n",
       "      <td>2015</td>\n",
       "    </tr>\n",
       "  </tbody>\n",
       "</table>\n",
       "<p>2200 rows × 13 columns</p>\n",
       "</div>"
      ],
      "text/plain": [
       "      world_rank                            institution         country  \\\n",
       "0              1                     Harvard University             USA   \n",
       "1              2  Massachusetts Institute of Technology             USA   \n",
       "2              3                    Stanford University             USA   \n",
       "3              4                University of Cambridge  United Kingdom   \n",
       "4              5     California Institute of Technology             USA   \n",
       "...          ...                                    ...             ...   \n",
       "2195         996              University of the Algarve        Portugal   \n",
       "2196         997                  Alexandria University           Egypt   \n",
       "2197         998            Federal University of Ceará          Brazil   \n",
       "2198         999                 University of A Coruña           Spain   \n",
       "2199        1000        China Pharmaceutical University           China   \n",
       "\n",
       "      national_rank  quality_of_education  alumni_employment  \\\n",
       "0                 1                     7                  9   \n",
       "1                 2                     9                 17   \n",
       "2                 3                    17                 11   \n",
       "3                 1                    10                 24   \n",
       "4                 4                     2                 29   \n",
       "...             ...                   ...                ...   \n",
       "2195              7                   367                567   \n",
       "2196              4                   236                566   \n",
       "2197             18                   367                549   \n",
       "2198             40                   367                567   \n",
       "2199             83                   367                567   \n",
       "\n",
       "      quality_of_faculty  publications  influence  citations  patents   score  \\\n",
       "0                      1             1          1          1        5  100.00   \n",
       "1                      3            12          4          4        1   91.67   \n",
       "2                      5             4          2          2       15   89.50   \n",
       "3                      4            16         16         11       50   86.17   \n",
       "4                      7            37         22         22       18   85.21   \n",
       "...                  ...           ...        ...        ...      ...     ...   \n",
       "2195                 218           926        845        812      816   44.03   \n",
       "2196                 218           997        908        645      871   44.03   \n",
       "2197                 218           830        823        812      824   44.03   \n",
       "2198                 218           886        974        812      651   44.02   \n",
       "2199                 218           861        991        812      547   44.02   \n",
       "\n",
       "      year  \n",
       "0     2012  \n",
       "1     2012  \n",
       "2     2012  \n",
       "3     2012  \n",
       "4     2012  \n",
       "...    ...  \n",
       "2195  2015  \n",
       "2196  2015  \n",
       "2197  2015  \n",
       "2198  2015  \n",
       "2199  2015  \n",
       "\n",
       "[2200 rows x 13 columns]"
      ]
     },
     "execution_count": 29,
     "metadata": {},
     "output_type": "execute_result"
    }
   ],
   "source": [
    "import pandas as pd\n",
    "df = pd.read_csv('../Laboratorio_A01706695/archive/cwurData.csv')\n",
    "df"
   ]
  },
  {
   "cell_type": "markdown",
   "id": "fe77e1d9",
   "metadata": {},
   "source": [
    "## Exploración de datos\n",
    "Similar al trabajo anterior, esta exploración nos permite conocer más acerca del tipo de datos con los que se pueden trabajar"
   ]
  },
  {
   "cell_type": "markdown",
   "id": "2771c6b6",
   "metadata": {},
   "source": [
    "### Uso de .info()"
   ]
  },
  {
   "cell_type": "code",
   "execution_count": 30,
   "id": "7eb8bbfa",
   "metadata": {},
   "outputs": [
    {
     "name": "stdout",
     "output_type": "stream",
     "text": [
      "<class 'pandas.core.frame.DataFrame'>\n",
      "RangeIndex: 2200 entries, 0 to 2199\n",
      "Data columns (total 13 columns):\n",
      " #   Column                Non-Null Count  Dtype  \n",
      "---  ------                --------------  -----  \n",
      " 0   world_rank            2200 non-null   int64  \n",
      " 1   institution           2200 non-null   object \n",
      " 2   country               2200 non-null   object \n",
      " 3   national_rank         2200 non-null   int64  \n",
      " 4   quality_of_education  2200 non-null   int64  \n",
      " 5   alumni_employment     2200 non-null   int64  \n",
      " 6   quality_of_faculty    2200 non-null   int64  \n",
      " 7   publications          2200 non-null   int64  \n",
      " 8   influence             2200 non-null   int64  \n",
      " 9   citations             2200 non-null   int64  \n",
      " 10  patents               2200 non-null   int64  \n",
      " 11  score                 2200 non-null   float64\n",
      " 12  year                  2200 non-null   int64  \n",
      "dtypes: float64(1), int64(10), object(2)\n",
      "memory usage: 223.6+ KB\n"
     ]
    }
   ],
   "source": [
    "df.info()"
   ]
  },
  {
   "cell_type": "markdown",
   "id": "66e9bfd6",
   "metadata": {},
   "source": [
    "Gracias a esta función, se pueden observar las columnas, la cantidad y el tipo de datos que nuestra base de datos posee.   \n",
    "Este análisis muestra que la mayoría de los datos presentes son de tipo **entero**; se poseen dos datos del tipo **objeto** para las columnas de *institution* y *country*, con la elmiminación de una columna, ahora solamente hay una columna con datos de tipo **flotante** para la categoría *score*."
   ]
  },
  {
   "cell_type": "markdown",
   "id": "7c009807",
   "metadata": {},
   "source": [
    "### Uso de .count()"
   ]
  },
  {
   "cell_type": "markdown",
   "id": "0843ab12",
   "metadata": {},
   "source": [
    "Lo siguiente muestra la cantidad de valores que hay para comprobar si hay *valores vacíos*."
   ]
  },
  {
   "cell_type": "code",
   "execution_count": 31,
   "id": "2d702c1a",
   "metadata": {},
   "outputs": [
    {
     "data": {
      "text/plain": [
       "world_rank              2200\n",
       "institution             2200\n",
       "country                 2200\n",
       "national_rank           2200\n",
       "quality_of_education    2200\n",
       "alumni_employment       2200\n",
       "quality_of_faculty      2200\n",
       "publications            2200\n",
       "influence               2200\n",
       "citations               2200\n",
       "patents                 2200\n",
       "score                   2200\n",
       "year                    2200\n",
       "dtype: int64"
      ]
     },
     "execution_count": 31,
     "metadata": {},
     "output_type": "execute_result"
    }
   ],
   "source": [
    "df.count()"
   ]
  },
  {
   "cell_type": "markdown",
   "id": "e0dd8d55",
   "metadata": {},
   "source": [
    "### Uso de len()"
   ]
  },
  {
   "cell_type": "code",
   "execution_count": 32,
   "id": "357a1c30",
   "metadata": {},
   "outputs": [
    {
     "data": {
      "text/plain": [
       "2200"
      ]
     },
     "execution_count": 32,
     "metadata": {},
     "output_type": "execute_result"
    }
   ],
   "source": [
    "len(df)"
   ]
  },
  {
   "cell_type": "markdown",
   "id": "8b5382f1",
   "metadata": {},
   "source": [
    "Con esta función también se observa la cantidad de datos que se poseen."
   ]
  },
  {
   "cell_type": "markdown",
   "metadata": {},
   "source": [
    "Se mandan a llamar las librerías:"
   ]
  },
  {
   "cell_type": "code",
   "execution_count": 33,
   "metadata": {},
   "outputs": [],
   "source": [
    "import seaborn as sb\n",
    "import numpy as np; np.random.seed(0)\n",
    "from matplotlib import cm\n",
    "from matplotlib import pyplot as plt"
   ]
  },
  {
   "cell_type": "code",
   "execution_count": 34,
   "id": "74b4e1ff",
   "metadata": {},
   "outputs": [],
   "source": [
    "los30 = df[(df['world_rank'] <= 10) & (df['year'] == 2012)]\n",
    "#los30"
   ]
  },
  {
   "cell_type": "code",
   "execution_count": 35,
   "metadata": {},
   "outputs": [
    {
     "data": {
      "text/plain": [
       "<Figure size 3600x3600 with 0 Axes>"
      ]
     },
     "metadata": {},
     "output_type": "display_data"
    },
    {
     "data": {
      "image/png": "[encoded data removed]",
      "text/plain": [
       "<Figure size 432x288 with 1 Axes>"
      ]
     },
     "metadata": {
      "needs_background": "light"
     },
     "output_type": "display_data"
    }
   ],
   "source": [
    "plt.figure(figsize=(50,50))\n",
    "los30[['country', 'score']].plot.hist()\n",
    "los30.set_index('institution')['score'].plot(kind='bar')\n",
    "plt.title('Top 10 2012')\n",
    "plt.show()"
   ]
  }
 ],
 "metadata": {
  "interpreter": {
   "hash": "cc48342685bda03f47da70213c7c89dc219ff0fb7ba77a2aaaef43c794a118ee"
  },
  "kernelspec": {
   "display_name": "Python 3.9.7 64-bit (windows store)",
   "name": "python3"
  },
  "language_info": {
   "codemirror_mode": {
    "name": "ipython",
    "version": 3
   },
   "file_extension": ".py",
   "mimetype": "text/x-python",
   "name": "python",
   "nbconvert_exporter": "python",
   "pygments_lexer": "ipython3",
   "version": "3.9.7"
  },
  "orig_nbformat": 4
 },
 "nbformat": 4,
 "nbformat_minor": 2
}
